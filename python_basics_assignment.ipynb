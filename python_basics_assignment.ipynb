{
 "cells": [
  {
   "cell_type": "code",
   "execution_count": null,
   "id": "c6ccbd69-76bf-4d61-97bc-84fb1d94cced",
   "metadata": {},
   "outputs": [],
   "source": [
    "\"\"\"1.Explain  key features of python that make it a popular choice for programming\n",
    "1.Python is widely used in the data industry \n",
    "2.Easy to learn\n",
    "3.High level language\n",
    "4.It has vast number of libraries\n",
    "\n",
    "\n",
    "2. Describe the role of predefined keywords in Python and provide examples of how they are used in a\n",
    "program\n",
    "Predefined keywords are special reserved words that have specific meanings and purposes and can't be used\n",
    "for anything but those specific purposes. \n",
    "Python has total 35 keywords.\n"
   ]
  },
  {
   "cell_type": "code",
   "execution_count": 1,
   "id": "b63c01fc-280e-4131-9d29-75d2eb086792",
   "metadata": {},
   "outputs": [
    {
     "name": "stdout",
     "output_type": "stream",
     "text": [
      "hello world\n"
     ]
    }
   ],
   "source": [
    "print(\"hello world\")     #print is a keyword"
   ]
  },
  {
   "cell_type": "code",
   "execution_count": null,
   "id": "1f5abbe4-2284-49a4-8acb-69795fd6aa0b",
   "metadata": {},
   "outputs": [],
   "source": [
    "\"\"\" 3.Compare and contrast mutable and immutable objects in Python with examples.\n",
    "Mutable objects are objects whose values can be changed or altered after they are created.\n",
    "immutable objects are objects which canot be changed.\n",
    "List is mutable\n",
    "Tuples is immutable\n",
    "Set is mutable\n",
    "Dictionary is mutable\n",
    "String is immutable"
   ]
  },
  {
   "cell_type": "code",
   "execution_count": 2,
   "id": "a615b1bd-0150-422b-a548-d971432e2e08",
   "metadata": {},
   "outputs": [
    {
     "data": {
      "text/plain": [
       "[1, 2, 3, 4]"
      ]
     },
     "execution_count": 2,
     "metadata": {},
     "output_type": "execute_result"
    }
   ],
   "source": [
    "#List Example\n",
    "l=[1,2,3,4]\n",
    "l"
   ]
  },
  {
   "cell_type": "code",
   "execution_count": 3,
   "id": "a0eaf5de-fd30-48de-ba5c-301b8bec6f48",
   "metadata": {},
   "outputs": [
    {
     "data": {
      "text/plain": [
       "[1, 6, 3, 4]"
      ]
     },
     "execution_count": 3,
     "metadata": {},
     "output_type": "execute_result"
    }
   ],
   "source": [
    "l[1]=6    #list values are changed therefore it is mutable\n",
    "l"
   ]
  },
  {
   "cell_type": "code",
   "execution_count": 4,
   "id": "6e2df6d2-a985-4818-81b0-4ab44ea264cb",
   "metadata": {},
   "outputs": [
    {
     "data": {
      "text/plain": [
       "tuple"
      ]
     },
     "execution_count": 4,
     "metadata": {},
     "output_type": "execute_result"
    }
   ],
   "source": [
    "#Tuple Example\n",
    "t=(3,7,4,9,6)\n",
    "type(t)"
   ]
  },
  {
   "cell_type": "code",
   "execution_count": 5,
   "id": "36771d44-22a0-4a50-88e6-2c37cc01a042",
   "metadata": {},
   "outputs": [
    {
     "data": {
      "text/plain": [
       "(3, 7, 4, 9, 6)"
      ]
     },
     "execution_count": 5,
     "metadata": {},
     "output_type": "execute_result"
    }
   ],
   "source": [
    "t"
   ]
  },
  {
   "cell_type": "code",
   "execution_count": 6,
   "id": "221acdbf-a832-482c-9105-6fa43d9f91ba",
   "metadata": {},
   "outputs": [
    {
     "ename": "SyntaxError",
     "evalue": "cannot assign to function call here. Maybe you meant '==' instead of '='? (327922645.py, line 1)",
     "output_type": "error",
     "traceback": [
      "\u001b[0;36m  Cell \u001b[0;32mIn[6], line 1\u001b[0;36m\u001b[0m\n\u001b[0;31m    t(1)=1\u001b[0m\n\u001b[0m    ^\u001b[0m\n\u001b[0;31mSyntaxError\u001b[0m\u001b[0;31m:\u001b[0m cannot assign to function call here. Maybe you meant '==' instead of '='?\n"
     ]
    }
   ],
   "source": [
    "t(1)=1    #tuples are immutable as we cannot modify the elements\n",
    "t"
   ]
  },
  {
   "cell_type": "code",
   "execution_count": 7,
   "id": "cadb07b6-72a9-47bc-802b-373b84304dfa",
   "metadata": {},
   "outputs": [
    {
     "data": {
      "text/plain": [
       "{3, 5, 6, 7, 8}"
      ]
     },
     "execution_count": 7,
     "metadata": {},
     "output_type": "execute_result"
    }
   ],
   "source": [
    "#Set Example\n",
    "s={3,7,6,8,3,5,6,8}\n",
    "s"
   ]
  },
  {
   "cell_type": "code",
   "execution_count": 8,
   "id": "76b2a845-f0da-40c5-8880-e5c8a0124f80",
   "metadata": {},
   "outputs": [
    {
     "data": {
      "text/plain": [
       "{3, 5, 6, 7, 8, 10}"
      ]
     },
     "execution_count": 8,
     "metadata": {},
     "output_type": "execute_result"
    }
   ],
   "source": [
    "s.add(10)      #set is mutable as we are able to add element\n",
    "s"
   ]
  },
  {
   "cell_type": "code",
   "execution_count": 9,
   "id": "c0d3586e-492d-44f4-8f70-a4707e7b8f25",
   "metadata": {},
   "outputs": [
    {
     "data": {
      "text/plain": [
       "'data'"
      ]
     },
     "execution_count": 9,
     "metadata": {},
     "output_type": "execute_result"
    }
   ],
   "source": [
    "#String Example\n",
    "s=\"data\"\n",
    "s"
   ]
  },
  {
   "cell_type": "code",
   "execution_count": 10,
   "id": "a13c9598-b614-443e-873c-53495274ae78",
   "metadata": {},
   "outputs": [
    {
     "ename": "TypeError",
     "evalue": "'str' object does not support item assignment",
     "output_type": "error",
     "traceback": [
      "\u001b[0;31m---------------------------------------------------------------------------\u001b[0m",
      "\u001b[0;31mTypeError\u001b[0m                                 Traceback (most recent call last)",
      "Cell \u001b[0;32mIn[10], line 1\u001b[0m\n\u001b[0;32m----> 1\u001b[0m \u001b[43ms\u001b[49m\u001b[43m[\u001b[49m\u001b[38;5;241;43m0\u001b[39;49m\u001b[43m]\u001b[49m\u001b[38;5;241m=\u001b[39m\u001b[38;5;124m\"\u001b[39m\u001b[38;5;124ms\u001b[39m\u001b[38;5;124m\"\u001b[39m\n",
      "\u001b[0;31mTypeError\u001b[0m: 'str' object does not support item assignment"
     ]
    }
   ],
   "source": [
    "s[0]=\"s\"   #string is immutable as we are not able to modify the string"
   ]
  },
  {
   "cell_type": "code",
   "execution_count": null,
   "id": "cd7333bd-15f9-4813-9089-474c34301a02",
   "metadata": {},
   "outputs": [],
   "source": [
    "\"\"\"4.Discuss the different types of operators in Python and provide examples of how they are used.\n",
    "Operators are special keywords to perform operation to manipulate data\n",
    "Types of operators:\n",
    "1.Arithematic operator +,-,*,/\n",
    "2.Comparison operator ==,!=,<,>,<=,>=\n",
    "3.Logical operator and, or\n",
    "4.Assignment operator =,+=,-=,*=,/=\n",
    "5.Membership operator in, not in\n",
    "6.Identity operator is, not is\n",
    "7.Bitwise operator binary(1,0) "
   ]
  },
  {
   "cell_type": "code",
   "execution_count": 11,
   "id": "50966f14-f4c4-4406-8f54-6b2aab51eace",
   "metadata": {},
   "outputs": [
    {
     "data": {
      "text/plain": [
       "12"
      ]
     },
     "execution_count": 11,
     "metadata": {},
     "output_type": "execute_result"
    }
   ],
   "source": [
    "# Examples of Arithematic operator\n",
    "a=4\n",
    "b=8\n",
    "a+b"
   ]
  },
  {
   "cell_type": "code",
   "execution_count": 12,
   "id": "06a41fae-5490-480b-a5fb-7ea60237b238",
   "metadata": {},
   "outputs": [
    {
     "data": {
      "text/plain": [
       "-4"
      ]
     },
     "execution_count": 12,
     "metadata": {},
     "output_type": "execute_result"
    }
   ],
   "source": [
    "a-b"
   ]
  },
  {
   "cell_type": "code",
   "execution_count": 13,
   "id": "bb125850-4cb7-4251-96b5-7a3013e44893",
   "metadata": {},
   "outputs": [
    {
     "data": {
      "text/plain": [
       "32"
      ]
     },
     "execution_count": 13,
     "metadata": {},
     "output_type": "execute_result"
    }
   ],
   "source": [
    "a*b"
   ]
  },
  {
   "cell_type": "code",
   "execution_count": 14,
   "id": "0931d868-fa98-4dd4-ad7f-5dd721be2f14",
   "metadata": {},
   "outputs": [
    {
     "data": {
      "text/plain": [
       "0.5"
      ]
     },
     "execution_count": 14,
     "metadata": {},
     "output_type": "execute_result"
    }
   ],
   "source": [
    "a/b"
   ]
  },
  {
   "cell_type": "code",
   "execution_count": 15,
   "id": "c0b6a3d7-2348-4df4-b1ac-223bef962bb0",
   "metadata": {},
   "outputs": [
    {
     "data": {
      "text/plain": [
       "True"
      ]
     },
     "execution_count": 15,
     "metadata": {},
     "output_type": "execute_result"
    }
   ],
   "source": [
    "# Examples of Arithematic operator\n",
    "2==2"
   ]
  },
  {
   "cell_type": "code",
   "execution_count": 16,
   "id": "c158e6b0-0572-4eaf-aa72-b4f7e1f58bdd",
   "metadata": {},
   "outputs": [
    {
     "data": {
      "text/plain": [
       "False"
      ]
     },
     "execution_count": 16,
     "metadata": {},
     "output_type": "execute_result"
    }
   ],
   "source": [
    "3!=3"
   ]
  },
  {
   "cell_type": "code",
   "execution_count": 17,
   "id": "ec4b3884-ee8f-457c-a2bf-9b588527c778",
   "metadata": {},
   "outputs": [
    {
     "data": {
      "text/plain": [
       "False"
      ]
     },
     "execution_count": 17,
     "metadata": {},
     "output_type": "execute_result"
    }
   ],
   "source": [
    "4>7"
   ]
  },
  {
   "cell_type": "code",
   "execution_count": 18,
   "id": "177e93a4-ae38-42b4-9a28-418e99d05e04",
   "metadata": {},
   "outputs": [
    {
     "data": {
      "text/plain": [
       "True"
      ]
     },
     "execution_count": 18,
     "metadata": {},
     "output_type": "execute_result"
    }
   ],
   "source": [
    "8>2"
   ]
  },
  {
   "cell_type": "code",
   "execution_count": 20,
   "id": "c263bcb7-db09-463d-8efe-99a45c9063e1",
   "metadata": {},
   "outputs": [
    {
     "data": {
      "text/plain": [
       "True"
      ]
     },
     "execution_count": 20,
     "metadata": {},
     "output_type": "execute_result"
    }
   ],
   "source": [
    "# Examples of logical operator\n",
    "True and True"
   ]
  },
  {
   "cell_type": "code",
   "execution_count": 21,
   "id": "d4e174ca-4d7f-4b5d-bb46-d2f1224511ea",
   "metadata": {},
   "outputs": [
    {
     "data": {
      "text/plain": [
       "False"
      ]
     },
     "execution_count": 21,
     "metadata": {},
     "output_type": "execute_result"
    }
   ],
   "source": [
    "True and False"
   ]
  },
  {
   "cell_type": "code",
   "execution_count": 23,
   "id": "f921996d-a5da-4d90-b064-7b77bae16a2d",
   "metadata": {},
   "outputs": [
    {
     "data": {
      "text/plain": [
       "True"
      ]
     },
     "execution_count": 23,
     "metadata": {},
     "output_type": "execute_result"
    }
   ],
   "source": [
    "True or False"
   ]
  },
  {
   "cell_type": "code",
   "execution_count": 24,
   "id": "57897f50-da77-4f83-abbe-19f77865e000",
   "metadata": {},
   "outputs": [
    {
     "data": {
      "text/plain": [
       "10"
      ]
     },
     "execution_count": 24,
     "metadata": {},
     "output_type": "execute_result"
    }
   ],
   "source": [
    "# Examples of Assignment operator\n",
    "a=3\n",
    "a+7"
   ]
  },
  {
   "cell_type": "code",
   "execution_count": 29,
   "id": "18584205-7c17-418b-9922-ea2740cd67ea",
   "metadata": {},
   "outputs": [
    {
     "data": {
      "text/plain": [
       "8"
      ]
     },
     "execution_count": 29,
     "metadata": {},
     "output_type": "execute_result"
    }
   ],
   "source": [
    "a=3\n",
    "a += 5\n",
    "a"
   ]
  },
  {
   "cell_type": "code",
   "execution_count": 30,
   "id": "05ffd567-2147-4a3c-8537-0e392a190022",
   "metadata": {},
   "outputs": [
    {
     "data": {
      "text/plain": [
       "-1"
      ]
     },
     "execution_count": 30,
     "metadata": {},
     "output_type": "execute_result"
    }
   ],
   "source": [
    "b=6\n",
    "b -= 7\n",
    "b"
   ]
  },
  {
   "cell_type": "code",
   "execution_count": null,
   "id": "ecb4a297-8f96-49d2-9ec1-8226a7d8c4b4",
   "metadata": {},
   "outputs": [],
   "source": [
    "\"\"\"\"5.Explain the concept of type casting in Python with examples\n",
    "Type casting  is the method to convert the Python variable datatype into \n",
    "a certain data type in order to perform the required operation"
   ]
  },
  {
   "cell_type": "code",
   "execution_count": 31,
   "id": "f983c893-85b4-4780-bdc2-0fd3f82f418c",
   "metadata": {},
   "outputs": [
    {
     "data": {
      "text/plain": [
       "str"
      ]
     },
     "execution_count": 31,
     "metadata": {},
     "output_type": "execute_result"
    }
   ],
   "source": [
    "#Example\n",
    "a='99'\n",
    "type(a)"
   ]
  },
  {
   "cell_type": "code",
   "execution_count": 33,
   "id": "96838eb0-4ac1-489d-9f42-85693069567a",
   "metadata": {},
   "outputs": [
    {
     "data": {
      "text/plain": [
       "int"
      ]
     },
     "execution_count": 33,
     "metadata": {},
     "output_type": "execute_result"
    }
   ],
   "source": [
    "a=int(a)    #string converted to int\n",
    "type(a)"
   ]
  },
  {
   "cell_type": "code",
   "execution_count": 34,
   "id": "10d49361-afd7-42ae-841e-ad0f18b5e135",
   "metadata": {},
   "outputs": [
    {
     "data": {
      "text/plain": [
       "int"
      ]
     },
     "execution_count": 34,
     "metadata": {},
     "output_type": "execute_result"
    }
   ],
   "source": [
    "b=100\n",
    "type(b)"
   ]
  },
  {
   "cell_type": "code",
   "execution_count": 35,
   "id": "57d4f4d7-64e2-40e6-9606-34f6c4353c4f",
   "metadata": {},
   "outputs": [
    {
     "data": {
      "text/plain": [
       "100.0"
      ]
     },
     "execution_count": 35,
     "metadata": {},
     "output_type": "execute_result"
    }
   ],
   "source": [
    "float(b)    #int converted to float"
   ]
  },
  {
   "cell_type": "code",
   "execution_count": null,
   "id": "945520ef-5deb-4aa1-8507-0adc6df83641",
   "metadata": {},
   "outputs": [],
   "source": [
    "\"\"\"6.How do conditional statements work in Python? Illustrate with examples\n",
    "Conditional statements are used to code decisions\n",
    "Types:\n",
    "1. If\n",
    "2. If else\n",
    "3. If elif else\n",
    "4. Nested if else"
   ]
  },
  {
   "cell_type": "code",
   "execution_count": 36,
   "id": "135d7006-9d38-4c8e-a41b-152953334cd9",
   "metadata": {},
   "outputs": [
    {
     "name": "stdout",
     "output_type": "stream",
     "text": [
      "true\n"
     ]
    }
   ],
   "source": [
    "# if condition example\n",
    "a=2\n",
    "if a<10:\n",
    "    print(\"true\")\n",
    "    a"
   ]
  },
  {
   "cell_type": "code",
   "execution_count": 39,
   "id": "aefd23b2-b60c-4324-9ce3-54a7980fc3ef",
   "metadata": {},
   "outputs": [
    {
     "name": "stdout",
     "output_type": "stream",
     "text": [
      "odd\n"
     ]
    }
   ],
   "source": [
    "#if else \n",
    "num=5\n",
    "if num%2==0:\n",
    "    print(\"even\")\n",
    "else:\n",
    "        print(\"odd\")\n",
    "        num"
   ]
  },
  {
   "cell_type": "code",
   "execution_count": 40,
   "id": "e6eaca1f-b323-49ba-9151-f572aee09ec4",
   "metadata": {},
   "outputs": [
    {
     "name": "stdout",
     "output_type": "stream",
     "text": [
      "fail\n"
     ]
    }
   ],
   "source": [
    "#if elif else\n",
    "score=50\n",
    "if(score>=90):\n",
    "    print(\"A+\")\n",
    "elif(80<=score<=90):\n",
    "    print(\"A\")\n",
    "elif(70<=score<80):\n",
    "    print(\"B\")\n",
    "else:\n",
    "    print(\"fail\")"
   ]
  },
  {
   "cell_type": "code",
   "execution_count": 41,
   "id": "88fae8c7-bb95-482a-9adb-4df195b391d6",
   "metadata": {},
   "outputs": [
    {
     "name": "stdout",
     "output_type": "stream",
     "text": [
      "B\n"
     ]
    }
   ],
   "source": [
    "#nested if else\n",
    "marks=80\n",
    "if marks>=80:\n",
    "    if marks>=90:\n",
    "        print(\"A\")\n",
    "    else:\n",
    "        print(\"B\")\n",
    "else:\n",
    "    print(\"Fail\")"
   ]
  },
  {
   "cell_type": "code",
   "execution_count": null,
   "id": "39db0ad2-8ac0-44ac-80ae-bf3e8df1664d",
   "metadata": {},
   "outputs": [],
   "source": [
    "\"\"\"7.Describe the different types of loops in Python and their use cases with examples.\n",
    "Loops allows the code of block to execute repeatedly\n",
    "Types:\n",
    "for loop\n",
    "while loop"
   ]
  },
  {
   "cell_type": "code",
   "execution_count": 45,
   "id": "ff03e34e-3739-44b8-9989-2505c6719863",
   "metadata": {},
   "outputs": [
    {
     "name": "stdout",
     "output_type": "stream",
     "text": [
      "0\n",
      "1\n",
      "2\n",
      "3\n",
      "4\n"
     ]
    }
   ],
   "source": [
    "#for loop- it iterates over a sequence of elements\n",
    "for i in range(5):\n",
    "    print(i)"
   ]
  },
  {
   "cell_type": "code",
   "execution_count": 46,
   "id": "5a49afb6-62a8-40b6-8f4c-7a9284391b53",
   "metadata": {},
   "outputs": [
    {
     "name": "stdout",
     "output_type": "stream",
     "text": [
      "1\n",
      "2\n",
      "3\n",
      "4\n",
      "5\n",
      "6\n"
     ]
    }
   ],
   "source": [
    "#while loop- it executes a code repeatedly until the condition is true\n",
    "n=7\n",
    "i=1\n",
    "while i<n:\n",
    "    print(i)\n",
    "    i=i+1"
   ]
  },
  {
   "cell_type": "code",
   "execution_count": null,
   "id": "f3794f7d-eb1e-4257-afc3-284f14acab03",
   "metadata": {},
   "outputs": [],
   "source": []
  }
 ],
 "metadata": {
  "kernelspec": {
   "display_name": "Python 3 (ipykernel)",
   "language": "python",
   "name": "python3"
  },
  "language_info": {
   "codemirror_mode": {
    "name": "ipython",
    "version": 3
   },
   "file_extension": ".py",
   "mimetype": "text/x-python",
   "name": "python",
   "nbconvert_exporter": "python",
   "pygments_lexer": "ipython3",
   "version": "3.10.8"
  }
 },
 "nbformat": 4,
 "nbformat_minor": 5
}
